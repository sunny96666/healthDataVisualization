{
 "cells": [
  {
   "cell_type": "code",
   "execution_count": 50,
   "id": "1764eaa3-abc7-4859-9f7e-9e1c777bf375",
   "metadata": {},
   "outputs": [],
   "source": [
    "#### 데이터 프레임 결측치\n",
    "# csv 데이터를 datafram1, datafram2 등 쪼개서 관리하는 코드(함수)를 작성하시오\n",
    "#iloc, loc : 테이블의 행과 열을 관리하는 pandas의 함수\n",
    "\n",
    "import pandas as pd\n",
    "\n",
    "def pandas_config(url_var1):\n",
    "    \"\"\"\n",
    "    :param url_var1:\n",
    "    :return:\n",
    "    \"\"\"\n",
    "    var1 = pd.read_csv(url_var1)\n",
    "    return var1\n",
    "\n",
    "def save_table(data)\n",
    "    data.to_csv('fix_table_file.csv', index = False)\n",
    "\n",
    "data = pandas_config(\"https://raw.githubusercontent.com/CSSEGISandData/COVID-19/master/csse_covid_19_data/csse_covid_19_daily_reports/12-05-2022.csv\")\n",
    "# korea_data=[['Country_Region']=='Korea']\n",
    "data\n",
    "# result_Country_Region = data[['Country_Region']] # data라는 객체의 배열 안에 있는 배열 [['COLUMN_NAME']] : dataframe, 컬럼 1개만 갖고 있는 테이블\n",
    "# result_Confirmed = data[['Confirmed']]\n",
    "# result_Deaths = data[['Deaths']]\n",
    "\n",
    "result = data[['Country_Region', 'Last_Update','Confirmed','Deaths']]\n",
    "# result.iloc[:,:] = iloc[검색하는범위, 검색하여 저장하는 컬럼위치(범위)]\n",
    "result_use_iloc = result.iloc[:,:]\n",
    "result_use_iloc\n",
    "result.to_csv('fix_table_file.csv', index = False)\n",
    "# data\n",
    "#loc & 조건절 : 튜플검색(row검색) : 전처리나 결측치 수정\n",
    "# data.loc[(데이터프레임이름['컬럼명'] == '검색조건') = 검색한 튜플(row)를 반환\n",
    "# data.loc[(data['Country_Region'] == 'Andorra') & (data['Case_Fatality_Ratio'] >= 1.5)]\n",
    "# data.loc[(data['Case_Fatality_Ratio'] >= 3.5)]\n",
    "\n"
   ]
  },
  {
   "cell_type": "code",
   "execution_count": 19,
   "id": "f001b29b-c189-492d-8b16-9163f4f08e36",
   "metadata": {},
   "outputs": [
    {
     "data": {
      "text/plain": [
       "[False]"
      ]
     },
     "execution_count": 19,
     "metadata": {},
     "output_type": "execute_result"
    }
   ],
   "source": [
    "# data.head(5) #최상단 5개 데이터 출력\n",
    "#FIPS : Federal Information Processing Standards : 연방 정보 처리 표준\n",
    "#Confirmed : 확진자 수\n",
    "#Deaths : 사망자수"
   ]
  },
  {
   "cell_type": "code",
   "execution_count": null,
   "id": "53078984-6ded-4f8d-9e06-eed4d2f34d23",
   "metadata": {},
   "outputs": [],
   "source": [
    "# 종속변수(종속컬럼) 생성, 결측치 제거, 전처리\n",
    "\n",
    "# ()포트폴리오 용으로 쓸 데이터(csv..)를 프로젝트에 저장하고 pandas를 활용하여 정규화(테이블 쪼개고 합치기)하여 관리하시오\n",
    "# ()데이터 분석 포트폴리오를 안할 경우 spring 프로젝트에서 사용할 login, log와 같은 데이터를 저장하는 함수, 관리를 기획하고\n",
    "# 구현하시오"
   ]
  }
 ],
 "metadata": {
  "kernelspec": {
   "display_name": "Python 3 (ipykernel)",
   "language": "python",
   "name": "python3"
  },
  "language_info": {
   "codemirror_mode": {
    "name": "ipython",
    "version": 3
   },
   "file_extension": ".py",
   "mimetype": "text/x-python",
   "name": "python",
   "nbconvert_exporter": "python",
   "pygments_lexer": "ipython3",
   "version": "3.9.12"
  }
 },
 "nbformat": 4,
 "nbformat_minor": 5
}
