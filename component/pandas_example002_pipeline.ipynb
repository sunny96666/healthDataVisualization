{
 "cells": [
  {
   "cell_type": "code",
   "execution_count": 1,
   "id": "ab5cc2d4-36a2-48c5-8df2-77d38558db80",
   "metadata": {},
   "outputs": [],
   "source": [
    "# scikit-Learn 파이프라인 코드\n",
    "## train set와 test set의 데이터 손실 회피\n",
    "## 교차 검증 및 모델 선택 유형을 획일화\n",
    "## 재현성 증가"
   ]
  },
  {
   "cell_type": "code",
   "execution_count": 2,
   "id": "5c8838ab-505d-44b5-aa4b-774cc9787c7a",
   "metadata": {},
   "outputs": [],
   "source": [
    "from sklearn.feature_selection import SelectKBest, f_classif\n",
    "from sklearn.pipeline import Pipeline, make_pipeline\n",
    "from sklearn.preprocessing import StandardScaler\n",
    "from sklearn.tree import DecisionTreeClassifier\n",
    "from sklearn.datasets import load_iris"
   ]
  },
  {
   "cell_type": "code",
   "execution_count": 3,
   "id": "1bc6bff9-1154-4a61-80cb-7e59d6356f1d",
   "metadata": {},
   "outputs": [],
   "source": [
    "# example data iris setting\n",
    "iris = load_iris()\n",
    " \n",
    "X = iris.data\n",
    "y = iris.target"
   ]
  },
  {
   "cell_type": "code",
   "execution_count": 4,
   "id": "8392e8b9-60d8-44bc-b805-3b8d6f0df26b",
   "metadata": {},
   "outputs": [
    {
     "name": "stdout",
     "output_type": "stream",
     "text": [
      "선택된 변수 : ['x2' 'x3']\n",
      "\n"
     ]
    }
   ],
   "source": [
    "# 변수 선택\n",
    "feat_sel = SelectKBest(f_classif, k=2)\n",
    "X_selected = feat_sel.fit_transform(X, y)\n",
    "print('선택된 변수 :', feat_sel.get_feature_names_out())\n",
    "print()"
   ]
  },
  {
   "cell_type": "code",
   "execution_count": 5,
   "id": "e5bac254-7752-46aa-bdab-520d94a2ae6c",
   "metadata": {},
   "outputs": [
    {
     "name": "stdout",
     "output_type": "stream",
     "text": [
      "[[-1.34022653 -1.3154443 ]\n",
      " [-1.34022653 -1.3154443 ]\n",
      " [-1.39706395 -1.3154443 ]\n",
      " [-1.2833891  -1.3154443 ]\n",
      " [-1.34022653 -1.3154443 ]]\n",
      "\n"
     ]
    }
   ],
   "source": [
    "# 표준화\n",
    "scaler = StandardScaler()\n",
    "scaler.fit(X_selected)\n",
    "X_transformed = scaler.transform(X_selected)\n",
    "print(X_transformed[:5, :])\n",
    "print()"
   ]
  },
  {
   "cell_type": "code",
   "execution_count": 6,
   "id": "fe5ece6c-6016-485a-96af-da88dcbe50c7",
   "metadata": {},
   "outputs": [
    {
     "name": "stdout",
     "output_type": "stream",
     "text": [
      "예측 :  [0 0 0]\n",
      "학습 정확도 :  0.9733333333333334\n"
     ]
    }
   ],
   "source": [
    "# 모델학습\n",
    "clf = DecisionTreeClassifier(max_depth=3)\n",
    "clf.fit(X_transformed, y)\n",
    "print('예측 : ', clf.predict(X_transformed)[:3])\n",
    "print('학습 정확도 : ', clf.score(X_transformed, y))"
   ]
  },
  {
   "cell_type": "code",
   "execution_count": 7,
   "id": "b27c9804-4ddd-4ccc-90af-d955ce4d9d22",
   "metadata": {},
   "outputs": [],
   "source": [
    "# use pipeline \n",
    "## pipeline([('WORK1_NAME', WORK1_CLASS), ('WORK1_NAME', WORK1_CLASS)..])"
   ]
  },
  {
   "cell_type": "code",
   "execution_count": 13,
   "id": "11550792-9bf5-44e0-825a-cb6932a6aa7f",
   "metadata": {},
   "outputs": [
    {
     "name": "stdout",
     "output_type": "stream",
     "text": [
      "[0 0 0]\n",
      "0.9733333333333334\n"
     ]
    }
   ],
   "source": [
    "## 작업등록 (set WORK_NAME ver)\n",
    "\n",
    "pipeline = Pipeline([('Feature_Selection', SelectKBest(f_classif, k=2)), ## 변수 선택\n",
    " ('Standardization', StandardScaler()),  ## 표준화\n",
    " ('Decision_Tree', DecisionTreeClassifier(max_depth=3)) ## 학습 모델\n",
    "])\n",
    " \n",
    "pipeline.fit(X, y) ## 모형 학습\n",
    "print(pipeline.predict(X)[:3]) ## 예측\n",
    "print(pipeline.score(X, y)) ## 성능 평가"
   ]
  },
  {
   "cell_type": "code",
   "execution_count": 14,
   "id": "8839543c-0260-4e75-828c-e849cb146d19",
   "metadata": {},
   "outputs": [],
   "source": [
    "## 작업등록 (set WORK_NAME AUTO)\n",
    "\n",
    "# pipeline = make_pipeline(SelectKBest(f_classif, k=2), \n",
    "#               StandardScaler(), \n",
    "#               DecisionTreeClassifier(max_depth=3))\n",
    "# pipeline\n",
    "# pipeline.fit(X, y) ## 모형 학습\n",
    "# print(pipeline.predict(X)[:3]) ## 예측\n",
    "# print(pipeline.score(X, y)) ## 성능 평가"
   ]
  },
  {
   "cell_type": "code",
   "execution_count": 16,
   "id": "69b77646-8a40-4747-a1dd-13306830ecaf",
   "metadata": {},
   "outputs": [
    {
     "name": "stdout",
     "output_type": "stream",
     "text": [
      "선택된 변수 : ['x2' 'x3']\n",
      "\n",
      "[[-1.34022653 -1.3154443 ]\n",
      " [-1.34022653 -1.3154443 ]\n",
      " [-1.39706395 -1.3154443 ]\n",
      " [-1.2833891  -1.3154443 ]\n",
      " [-1.34022653 -1.3154443 ]]\n"
     ]
    }
   ],
   "source": [
    "# 중간 결과\n",
    "\n",
    "## 중간 결과 보기 - 인덱스를 이용한 방법\n",
    "## 선택된 변수 보기\n",
    "print('선택된 변수 :', pipeline[0].get_feature_names_out())\n",
    "print()\n",
    "## 표준화가 잘되었는지 확인하기\n",
    "var_selected = pipeline[0].get_feature_names_out()\n",
    "X_selected = X[:,[int(x.replace('x','')) for x in var_selected]]\n",
    "X_transformed = pipeline[1].transform(X_selected)\n",
    "print(X_transformed[:5, :])"
   ]
  },
  {
   "cell_type": "code",
   "execution_count": 17,
   "id": "be0be5e7-2c29-4340-b336-2ed9f5100494",
   "metadata": {},
   "outputs": [
    {
     "name": "stdout",
     "output_type": "stream",
     "text": [
      "선택된 변수 : ['x2' 'x3']\n",
      "\n",
      "[[-1.34022653 -1.3154443 ]\n",
      " [-1.34022653 -1.3154443 ]\n",
      " [-1.39706395 -1.3154443 ]\n",
      " [-1.2833891  -1.3154443 ]\n",
      " [-1.34022653 -1.3154443 ]]\n"
     ]
    }
   ],
   "source": [
    "## 중간 결과 보기 - named_steps 이용한 방법\n",
    "## 선택된 변수 보기\n",
    "print('선택된 변수 :', pipeline.named_steps['Feature_Selection'].get_feature_names_out())\n",
    "print()\n",
    "## 표준화가 잘되었는지 확인하기\n",
    "var_selected = pipeline.named_steps['Feature_Selection'].get_feature_names_out()\n",
    "X_selected = X[:,[int(x.replace('x','')) for x in var_selected]]\n",
    "X_transformed = pipeline.named_steps['Standardization'].transform(X_selected)\n",
    "print(X_transformed[:5, :])"
   ]
  },
  {
   "cell_type": "code",
   "execution_count": null,
   "id": "eec8d269-22a2-417d-b4fa-2206e2102868",
   "metadata": {},
   "outputs": [],
   "source": []
  }
 ],
 "metadata": {
  "kernelspec": {
   "display_name": "Python 3 (ipykernel)",
   "language": "python",
   "name": "python3"
  },
  "language_info": {
   "codemirror_mode": {
    "name": "ipython",
    "version": 3
   },
   "file_extension": ".py",
   "mimetype": "text/x-python",
   "name": "python",
   "nbconvert_exporter": "python",
   "pygments_lexer": "ipython3",
   "version": "3.9.12"
  }
 },
 "nbformat": 4,
 "nbformat_minor": 5
}
